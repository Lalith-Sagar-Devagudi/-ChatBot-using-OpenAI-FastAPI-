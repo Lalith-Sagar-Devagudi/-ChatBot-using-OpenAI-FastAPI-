{
 "cells": [
  {
   "cell_type": "markdown",
   "metadata": {},
   "source": [
    "### Chatbot Microservice Usage\n",
    "\n",
    "After installing all the require packages and dependencies, we can start the microservice by running the following command in below cell."
   ]
  },
  {
   "cell_type": "code",
   "execution_count": 1,
   "metadata": {},
   "outputs": [
    {
     "name": "stdout",
     "output_type": "stream",
     "text": [
      "Serving at http://localhost:8001/cbtbox.html\n"
     ]
    },
    {
     "name": "stderr",
     "output_type": "stream",
     "text": [
      "127.0.0.1 - - [18/Jul/2023 15:22:02] \"GET /cbtbox.html HTTP/1.1\" 304 -\n"
     ]
    },
    {
     "name": "stdout",
     "output_type": "stream",
     "text": [
      "Shutting down servers...\n"
     ]
    }
   ],
   "source": [
    "%run start_bot.py"
   ]
  },
  {
   "cell_type": "markdown",
   "metadata": {},
   "source": [
    "Once you start the microservice, it will open the chat UI in a new browser tab. Here's how to interact with it:\n",
    "\n",
    "1. In the UI, enter the User ID and your question.\n",
    "2. Click on the 'Send' button to get the response from the chatbot.\n",
    "\n",
    "Here's what happens next:\n",
    "\n",
    "- The bot's response is **read out loud and also displayed in the UI**.\n",
    "- The response is saved in the MongoDB database.\n",
    "- The response is also saved in the 'outputs' folder in two formats:\n",
    "  - As a text file\n",
    "  - As an audio file\n"
   ]
  },
  {
   "cell_type": "markdown",
   "metadata": {},
   "source": [
    "#### History\n",
    "To retrieve the conversation history for a user, you can send a GET request to the `/history/{user_id}` endpoint. Replace `{user_id}` with the ID of the user you want to fetch the history for. Here is an example:"
   ]
  },
  {
   "cell_type": "code",
   "execution_count": 3,
   "metadata": {},
   "outputs": [
    {
     "name": "stdout",
     "output_type": "stream",
     "text": [
      "User: What is earth?\n",
      "Assistant: Earth is the third planet from the Sun in our solar system. It is the largest and densest of the four rocky planets, which also include Mercury, Venus, and Mars. Earth is unique in our solar system because it is the only known planet to support life. It has a diverse range of ecosystems, including bodies of water, landmasses, and a breathable atmosphere. Earth is also the home to millions of species, including humans.\n"
     ]
    }
   ],
   "source": [
    "response = requests.get(\"http://localhost:8000/history/user5\")\n",
    "print(response.text)  # Print the response from the server"
   ]
  },
  {
   "cell_type": "markdown",
   "metadata": {},
   "source": [
    "\n",
    "\n",
    "The output is the conversation history for `user5`.\n"
   ]
  },
  {
   "cell_type": "markdown",
   "metadata": {},
   "source": [
    "#### Audio\n",
    "To retrieve the audio file for a user, you can send a GET request to the `/audio` endpoint:\n",
    "And this will save a file named `output.mp3` in the `outputs` folder."
   ]
  },
  {
   "cell_type": "code",
   "execution_count": 4,
   "metadata": {},
   "outputs": [],
   "source": [
    "response = requests.get(\"http://localhost:8000/audio\")\n",
    "\n",
    "# Ensure the request was successful\n",
    "if response.status_code == 200:\n",
    "    with open(\"outputs/output.mp3\", 'wb') as f:\n",
    "        f.write(response.content)\n",
    "else:\n",
    "    print(\"Request failed with status code\", response.status_code)\n"
   ]
  },
  {
   "cell_type": "markdown",
   "metadata": {},
   "source": [
    "# Conclusion\n",
    "\n",
    "Throughout this notebook, we've successfully set up and interacted with a Chatbot microservice, which is capable of delivering audio and text responses based on user input. \n",
    "\n",
    "We've seen how to start the microservice and interact with its UI, send chat requests, and handle the bot's responses. We've also discussed saving these responses in a MongoDB database for persistence and later retrieval, as well as storing them as text and audio files for further use.\n",
    "\n",
    "Our example interactions showcased retrieving a user's conversation history and fetching the latest audio response.\n",
    "\n",
    "Key points to remember:\n",
    "\n",
    "- Ensure to replace the placeholders in the request URLs with actual user IDs or other relevant information.\n",
    "- Check the status codes of HTTP responses to ensure requests are successful.\n",
    "- Make sure the directories where you're saving files exist beforehand to avoid errors.\n",
    "\n",
    "This notebook represents a basic implementation and there's plenty of room for customization and improvement based on your specific needs. Some possible enhancements could include adding authentication, improving error handling, and extending the bot's capabilities, and using the bot's responses to train a more sophisticated model. Hyperparameter tuning could also be used to improve the bot's performance. Making it context specific and adding more data to the training set could also help improve the bot's responses.\n",
    "\n"
   ]
  }
 ],
 "metadata": {
  "kernelspec": {
   "display_name": "Python 3",
   "language": "python",
   "name": "python3"
  },
  "language_info": {
   "codemirror_mode": {
    "name": "ipython",
    "version": 3
   },
   "file_extension": ".py",
   "mimetype": "text/x-python",
   "name": "python",
   "nbconvert_exporter": "python",
   "pygments_lexer": "ipython3",
   "version": "3.10.6"
  },
  "orig_nbformat": 4
 },
 "nbformat": 4,
 "nbformat_minor": 2
}
